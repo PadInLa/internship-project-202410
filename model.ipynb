{
 "cells": [
  {
   "cell_type": "markdown",
   "metadata": {},
   "source": [
    "# Proyecto de prácticas - Modelo predictivo del comportamiento de matrículas para la optimización de la oferta académica de una Universidad."
   ]
  },
  {
   "cell_type": "markdown",
   "metadata": {},
   "source": [
    "## Juan David Padilla Páez - 200145173"
   ]
  },
  {
   "cell_type": "markdown",
   "metadata": {},
   "source": [
    "# Importación de Base de Datos"
   ]
  },
  {
   "cell_type": "markdown",
   "metadata": {},
   "source": [
    "## Librerías"
   ]
  },
  {
   "cell_type": "markdown",
   "metadata": {},
   "source": [
    "### Procesamiento de datos"
   ]
  },
  {
   "cell_type": "code",
   "execution_count": 24,
   "metadata": {},
   "outputs": [],
   "source": [
    "import pandas as pd\n",
    "from prophet import Prophet\n",
    "import plotly.graph_objs as go\n",
    "import numpy as np\n",
    "from prophet.diagnostics import cross_validation, performance_metrics\n",
    "from statsmodels.tsa.holtwinters import ExponentialSmoothing\n",
    "from sklearn.linear_model import LinearRegression\n",
    "from statsmodels.tsa.arima.model import ARIMA\n",
    "import statsmodels.api as sm\n",
    "from sklearn.metrics import mean_squared_error, mean_absolute_error\n",
    "from scipy.stats import pearsonr"
   ]
  },
  {
   "cell_type": "markdown",
   "metadata": {},
   "source": [
    "### Graficos"
   ]
  },
  {
   "cell_type": "code",
   "execution_count": 2,
   "metadata": {},
   "outputs": [],
   "source": [
    "import matplotlib.pyplot as plt\n",
    "from matplotlib import style\n",
    "import seaborn as sns"
   ]
  },
  {
   "cell_type": "markdown",
   "metadata": {},
   "source": [
    "### Rutas de los archivos"
   ]
  },
  {
   "cell_type": "code",
   "execution_count": 67,
   "metadata": {},
   "outputs": [],
   "source": [
    "import routes\n",
    "import warnings\n",
    "warnings.filterwarnings('ignore')"
   ]
  },
  {
   "cell_type": "markdown",
   "metadata": {},
   "source": [
    "## Creación de dataframes"
   ]
  },
  {
   "cell_type": "markdown",
   "metadata": {},
   "source": [
    "### Importación de los datos crudos"
   ]
  },
  {
   "cell_type": "code",
   "execution_count": 4,
   "metadata": {},
   "outputs": [],
   "source": [
    "# Se cargan los archivos de excel\n",
    "dfAdmitidos = pd.read_excel(routes.path_admitidos)\n",
    "dfMatprimer = pd.read_excel(routes.path_matprimer)\n",
    "dfInscritos = pd.read_excel(routes.path_inscritos, sheet_name='Inscritos')"
   ]
  },
  {
   "cell_type": "code",
   "execution_count": 5,
   "metadata": {},
   "outputs": [],
   "source": [
    "# Se normaliza el nombre de las columnas\n",
    "dfInscritos.columns = [col.replace('\\n', ' ') for col in dfInscritos.columns]\n",
    "dfInscritos.columns = dfInscritos.columns.str.upper()"
   ]
  },
  {
   "cell_type": "markdown",
   "metadata": {},
   "source": [
    "### Agregación de Género"
   ]
  },
  {
   "cell_type": "markdown",
   "metadata": {},
   "source": [
    "#### Admitidos"
   ]
  },
  {
   "cell_type": "code",
   "execution_count": 6,
   "metadata": {},
   "outputs": [],
   "source": [
    "group_columns = [\n",
    "    'CÓDIGO DE LA INSTITUCIÓN', 'IES PADRE',\n",
    "    'INSTITUCIÓN DE EDUCACIÓN SUPERIOR (IES)', 'PRINCIPAL O SECCIONAL',\n",
    "    'SECTOR IES', 'CARACTER IES', 'CÓDIGO DEL DEPARTAMENTO (IES)',\n",
    "    'DEPARTAMENTO DE DOMICILIO DE LA IES', 'CÓDIGO DEL MUNICIPIO IES',\n",
    "    'MUNICIPIO DE DOMICILIO DE LA IES', 'CÓDIGO SNIES DEL PROGRAMA',\n",
    "    'PROGRAMA ACADÉMICO', 'NIVEL ACADÉMICO', 'NIVEL DE FORMACIÓN',\n",
    "    'METODOLOGÍA', 'CÓDIGO DEL DEPARTAMENTO (PROGRAMA)',\n",
    "    'DEPARTAMENTO DE OFERTA DEL PROGRAMA', 'CÓDIGO DEL MUNICIPIO (PROGRAMA)',\n",
    "    'MUNICIPIO DE OFERTA DEL PROGRAMA', 'AÑO', 'SEMESTRE'   # Include AÑO to aggregate per year\n",
    "]\n",
    "\n",
    "# Group by the defined columns and sum the 'ADMITIDOS'\n",
    "aggregated_dfAdmitidos = dfAdmitidos.groupby(group_columns, as_index=False)['ADMITIDOS'].sum()\n"
   ]
  },
  {
   "cell_type": "markdown",
   "metadata": {},
   "source": [
    "#### Primer Curso"
   ]
  },
  {
   "cell_type": "code",
   "execution_count": 7,
   "metadata": {},
   "outputs": [],
   "source": [
    "group_columns = [\n",
    "    'CÓDIGO DE LA INSTITUCIÓN', 'IES_PADRE',\n",
    "    'INSTITUCIÓN DE EDUCACIÓN SUPERIOR (IES)', 'PRINCIPAL O SECCIONAL',\n",
    "    'SECTOR IES', 'CARACTER IES', 'CÓDIGO DEL DEPARTAMENTO (IES)',\n",
    "    'DEPARTAMENTO DE DOMICILIO DE LA IES', 'CÓDIGO DEL MUNICIPIO (IES)',\n",
    "    'MUNICIPIO DE DOMICILIO DE LA IES', 'CÓDIGO SNIES DEL PROGRAMA',\n",
    "    'PROGRAMA ACADÉMICO', 'NIVEL ACADÉMICO', 'NIVEL DE FORMACIÓN',\n",
    "    'METODOLOGÍA', 'CÓDIGO DEL DEPARTAMENTO (PROGRAMA)',\n",
    "    'DEPARTAMENTO DE OFERTA DEL PROGRAMA', 'CÓDIGO DEL MUNICIPIO (PROGRAMA)',\n",
    "    'MUNICIPIO DE OFERTA DEL PROGRAMA', 'AÑO', 'SEMESTRE'   # Include AÑO to aggregate per year\n",
    "]\n",
    "\n",
    "# Group by the defined columns and sum the 'PRIMER CURSO'\n",
    "aggregated_dfMatprimer = dfMatprimer.groupby(group_columns, as_index=False)['PRIMER CURSO'].sum()"
   ]
  },
  {
   "cell_type": "markdown",
   "metadata": {},
   "source": [
    "#### Inscritos"
   ]
  },
  {
   "cell_type": "code",
   "execution_count": 8,
   "metadata": {},
   "outputs": [],
   "source": [
    "group_columns = [\n",
    "    'CÓDIGO DE  LA INSTITUCIÓN', 'IES PADRE',\n",
    "       'INSTITUCIÓN DE EDUCACIÓN SUPERIOR', 'PRINCIPAL  O  SECCIONAL',\n",
    "       'SECTOR IES', 'CARACTER IES', 'CÓDIGO DEL  DEPARTAMENTO (IES)',\n",
    "       'DEPARTAMENTO DE  DOMICILIO DE LA IES', 'CÓDIGO DEL  MUNICIPIO (IES)',\n",
    "       'MUNICIPIO DE DOMICILIO DE LA IES', 'CÓDIGO  SNIES DEL PROGRAMA',\n",
    "       'PROGRAMA ACADÉMICO', 'NIVEL ACADÉMICO', 'NIVEL DE FORMACIÓN',\n",
    "       'METODOLOGÍA', 'CÓDIGO DEL  DEPARTAMENTO (PROGRAMA)',\n",
    "       'DEPARTAMENTO DE OFERTA DEL PROGRAMA',\n",
    "       'CÓDIGO DEL  MUNICIPIO (PROGRAMA)', 'SEMESTRE' ,'MUNICIPIO DE OFERTA DEL PROGRAMA',\n",
    "       'AÑO'  # Include AÑO to aggregate per year\n",
    "]\n",
    "\n",
    "# Group by the defined columns and sum the 'ADMITIDOS'\n",
    "aggregated_dfInscritos = dfInscritos.groupby(group_columns, as_index=False)['INSCRITOS'].sum()"
   ]
  },
  {
   "cell_type": "markdown",
   "metadata": {},
   "source": [
    "### Preparación del dataframe"
   ]
  },
  {
   "cell_type": "code",
   "execution_count": 14,
   "metadata": {},
   "outputs": [
    {
     "data": {
      "text/plain": [
       "0                     UNIVERSIDAD NACIONAL DE COLOMBIA\n",
       "1                     UNIVERSIDAD NACIONAL DE COLOMBIA\n",
       "2                     UNIVERSIDAD NACIONAL DE COLOMBIA\n",
       "3                     UNIVERSIDAD NACIONAL DE COLOMBIA\n",
       "4                     UNIVERSIDAD NACIONAL DE COLOMBIA\n",
       "                              ...                     \n",
       "212255    CORPORACIÓN UNIVERSITARIA AUTÓNOMA DEL NORTE\n",
       "212256    CORPORACIÓN UNIVERSITARIA AUTÓNOMA DEL NORTE\n",
       "212257    CORPORACIÓN UNIVERSITARIA AUTÓNOMA DEL NORTE\n",
       "212258    CORPORACIÓN UNIVERSITARIA AUTÓNOMA DEL NORTE\n",
       "212259    CORPORACIÓN UNIVERSITARIA AUTÓNOMA DEL NORTE\n",
       "Name: INSTITUCIÓN DE EDUCACIÓN SUPERIOR (IES), Length: 212260, dtype: object"
      ]
     },
     "execution_count": 14,
     "metadata": {},
     "output_type": "execute_result"
    }
   ],
   "source": [
    "aggregated_dfMatprimer['AÑO'] = pd.to_datetime(aggregated_dfMatprimer['AÑO'], format='%Y')\n",
    "aggregated_dfMatprimer['DATE'] = aggregated_dfMatprimer.apply(\n",
    "    lambda row: row['AÑO'] + pd.DateOffset(months=6*(row['SEMESTRE']-1)),\n",
    "    axis=1\n",
    ")\n",
    "aggregated_dfMatprimer['INSTITUCIÓN DE EDUCACIÓN SUPERIOR (IES)']"
   ]
  },
  {
   "cell_type": "code",
   "execution_count": 15,
   "metadata": {},
   "outputs": [],
   "source": [
    "# Aggregate the 'PRIMER CURSO' per year and program\n",
    "program_df = aggregated_dfMatprimer.groupby(['DATE', 'PROGRAMA ACADÉMICO', 'INSTITUCIÓN DE EDUCACIÓN SUPERIOR (IES)']).agg({'PRIMER CURSO': 'sum'}).reset_index()\n"
   ]
  },
  {
   "cell_type": "markdown",
   "metadata": {},
   "source": [
    "# Creación de modelos"
   ]
  },
  {
   "cell_type": "markdown",
   "metadata": {},
   "source": [
    "## Modelo Prophet"
   ]
  },
  {
   "cell_type": "code",
   "execution_count": 68,
   "metadata": {},
   "outputs": [
    {
     "name": "stderr",
     "output_type": "stream",
     "text": [
      "18:09:44 - cmdstanpy - INFO - Chain [1] start processing\n",
      "18:09:44 - cmdstanpy - INFO - Chain [1] done processing\n"
     ]
    },
    {
     "data": {
      "application/vnd.jupyter.widget-view+json": {
       "model_id": "4a70ba341a3a45a6bffde638a6c9573a",
       "version_major": 2,
       "version_minor": 0
      },
      "text/plain": [
       "  0%|          | 0/6 [00:00<?, ?it/s]"
      ]
     },
     "metadata": {},
     "output_type": "display_data"
    },
    {
     "name": "stderr",
     "output_type": "stream",
     "text": [
      "18:09:44 - cmdstanpy - INFO - Chain [1] start processing\n",
      "18:09:44 - cmdstanpy - INFO - Chain [1] done processing\n",
      "18:09:44 - cmdstanpy - INFO - Chain [1] start processing\n",
      "18:09:44 - cmdstanpy - INFO - Chain [1] done processing\n",
      "18:09:45 - cmdstanpy - INFO - Chain [1] start processing\n",
      "18:09:45 - cmdstanpy - INFO - Chain [1] done processing\n",
      "18:09:45 - cmdstanpy - INFO - Chain [1] start processing\n",
      "18:09:45 - cmdstanpy - INFO - Chain [1] done processing\n",
      "18:09:45 - cmdstanpy - INFO - Chain [1] start processing\n",
      "18:09:45 - cmdstanpy - INFO - Chain [1] done processing\n",
      "18:09:45 - cmdstanpy - INFO - Chain [1] start processing\n",
      "18:09:45 - cmdstanpy - INFO - Chain [1] done processing\n"
     ]
    },
    {
     "name": "stdout",
     "output_type": "stream",
     "text": [
      "    horizon           mse        rmse         mae      mape     mdape  \\\n",
      "0  181 days   2478.646483   49.786007   33.961763  1.183152  0.279344   \n",
      "1  182 days   2505.990247   50.059867   38.658282  1.713079  0.673072   \n",
      "2  184 days  25071.745546  158.340600   97.939397  4.042796  1.232754   \n",
      "3  362 days  32824.850309  181.176296  128.682762  5.357252  1.435220   \n",
      "4  363 days  26665.431614  163.295535  118.528182  3.969686  1.022444   \n",
      "5  364 days  22817.699653  151.055287  116.137681  4.915322  1.084807   \n",
      "6  365 days  35826.410561  189.278658  139.817923  7.456229  1.478268   \n",
      "7  366 days  45980.240536  214.430036  163.189212  7.147467  2.171512   \n",
      "8  544 days  37079.354223  192.560002  151.372087  5.396639  2.064637   \n",
      "9  546 days  26240.258619  161.988452  129.910428  5.954580  1.862368   \n",
      "10 547 days  36905.598575  192.108299  141.893932  8.066329  1.673859   \n",
      "11 548 days  47438.785458  217.804466  158.019349  8.442798  1.790406   \n",
      "12 549 days  44883.957875  211.858344  160.996125  5.593147  2.089353   \n",
      "13 728 days  26174.243856  161.784560  117.246625  6.804921  1.389783   \n",
      "14 729 days  33499.165711  183.027773  130.842425  7.432437  2.654903   \n",
      "15 730 days  31306.787915  176.937243  131.284251  6.234184  2.204222   \n",
      "\n",
      "       smape  coverage  \n",
      "0   0.414160  0.810185  \n",
      "1   0.629733  0.879630  \n",
      "2   0.920951  0.658333  \n",
      "3   1.059856  0.450000  \n",
      "4   0.984239  0.461806  \n",
      "5   1.077755  0.384259  \n",
      "6   1.214282  0.341667  \n",
      "7   1.295337  0.250000  \n",
      "8   1.260241  0.236111  \n",
      "9   1.206869  0.216667  \n",
      "10  1.175767  0.266667  \n",
      "11  1.162745  0.291667  \n",
      "12  1.194378  0.222222  \n",
      "13  1.024750  0.488636  \n",
      "14  1.122550  0.400000  \n",
      "15  1.149739  0.354167  \n",
      "           ds        yhat  yhat_lower  yhat_upper\n",
      "0  2014-01-01  103.974547   31.105415  181.893186\n",
      "1  2014-07-01   86.380613   12.675262  161.842972\n",
      "2  2015-01-01  105.256506   32.177552  176.580649\n",
      "3  2015-07-01   92.755686   17.523617  167.982038\n",
      "4  2016-01-01  106.479105   28.317440  180.641070\n",
      "5  2016-07-01   95.982123   20.127742  176.676229\n",
      "6  2017-01-01  125.132254   49.778886  202.121944\n",
      "7  2017-07-01  102.468134   27.569757  179.323853\n",
      "8  2018-01-01  126.492887   49.433799  202.448135\n",
      "9  2018-07-01  108.906010   35.785706  187.960776\n",
      "10 2019-01-01  127.789077   50.514142  206.355175\n",
      "11 2019-07-01  115.295314   48.103591  187.925436\n",
      "12 2020-01-01  129.025907   57.164389  203.586804\n",
      "13 2020-07-01  118.528927   41.176215  193.763188\n",
      "14 2021-01-01  147.679061   71.870914  218.194029\n",
      "15 2021-07-01  125.014942   51.622044  199.645180\n",
      "16 2022-01-01  149.039698   69.513593  220.845274\n",
      "17 2022-07-01  131.452822   62.220663  207.390149\n",
      "18 2022-07-01  131.452822   61.192097  210.534130\n",
      "19 2023-01-01  150.335891   75.349052  225.338977\n",
      "20 2023-07-01  137.842129   58.009932  212.988213\n",
      "21 2024-01-01  151.572722   79.534006  228.882636\n"
     ]
    },
    {
     "data": {
      "application/vnd.plotly.v1+json": {
       "config": {
        "plotlyServerURL": "https://plot.ly"
       },
       "data": [
        {
         "mode": "lines",
         "name": "Prediction",
         "type": "scatter",
         "x": [
          "2014-01-01T00:00:00",
          "2014-07-01T00:00:00",
          "2015-01-01T00:00:00",
          "2015-07-01T00:00:00",
          "2016-01-01T00:00:00",
          "2016-07-01T00:00:00",
          "2017-01-01T00:00:00",
          "2017-07-01T00:00:00",
          "2018-01-01T00:00:00",
          "2018-07-01T00:00:00",
          "2019-01-01T00:00:00",
          "2019-07-01T00:00:00",
          "2020-01-01T00:00:00",
          "2020-07-01T00:00:00",
          "2021-01-01T00:00:00",
          "2021-07-01T00:00:00",
          "2022-01-01T00:00:00",
          "2022-07-01T00:00:00",
          "2022-07-01T00:00:00",
          "2023-01-01T00:00:00",
          "2023-07-01T00:00:00",
          "2024-01-01T00:00:00"
         ],
         "y": [
          103.9745468399668,
          86.38061272207662,
          105.25650642491058,
          92.7556859445102,
          106.4791047185821,
          95.98212277075064,
          125.13225433045992,
          102.4681337604054,
          126.49288691520587,
          108.9060095430406,
          127.78907698537863,
          115.29531350765728,
          129.02590656678314,
          118.52892704589348,
          147.6790611474409,
          125.01494249938544,
          149.03969763084058,
          131.45282188751804,
          131.45282188751804,
          150.33589095647972,
          137.84212875600568,
          151.57272220895248
         ]
        },
        {
         "mode": "lines+markers",
         "name": "Actual Data",
         "type": "scatter",
         "x": [
          "2014-01-01T00:00:00",
          "2014-01-01T00:00:00",
          "2014-01-01T00:00:00",
          "2014-01-01T00:00:00",
          "2014-01-01T00:00:00",
          "2014-01-01T00:00:00",
          "2014-01-01T00:00:00",
          "2014-01-01T00:00:00",
          "2014-01-01T00:00:00",
          "2014-01-01T00:00:00",
          "2014-01-01T00:00:00",
          "2014-01-01T00:00:00",
          "2014-01-01T00:00:00",
          "2014-01-01T00:00:00",
          "2014-01-01T00:00:00",
          "2014-01-01T00:00:00",
          "2014-07-01T00:00:00",
          "2014-07-01T00:00:00",
          "2014-07-01T00:00:00",
          "2014-07-01T00:00:00",
          "2014-07-01T00:00:00",
          "2014-07-01T00:00:00",
          "2014-07-01T00:00:00",
          "2014-07-01T00:00:00",
          "2014-07-01T00:00:00",
          "2014-07-01T00:00:00",
          "2014-07-01T00:00:00",
          "2014-07-01T00:00:00",
          "2014-07-01T00:00:00",
          "2014-07-01T00:00:00",
          "2014-07-01T00:00:00",
          "2014-07-01T00:00:00",
          "2014-07-01T00:00:00",
          "2015-01-01T00:00:00",
          "2015-01-01T00:00:00",
          "2015-01-01T00:00:00",
          "2015-01-01T00:00:00",
          "2015-01-01T00:00:00",
          "2015-01-01T00:00:00",
          "2015-01-01T00:00:00",
          "2015-01-01T00:00:00",
          "2015-01-01T00:00:00",
          "2015-01-01T00:00:00",
          "2015-01-01T00:00:00",
          "2015-01-01T00:00:00",
          "2015-01-01T00:00:00",
          "2015-01-01T00:00:00",
          "2015-01-01T00:00:00",
          "2015-01-01T00:00:00",
          "2015-01-01T00:00:00",
          "2015-01-01T00:00:00",
          "2015-07-01T00:00:00",
          "2015-07-01T00:00:00",
          "2015-07-01T00:00:00",
          "2015-07-01T00:00:00",
          "2015-07-01T00:00:00",
          "2015-07-01T00:00:00",
          "2015-07-01T00:00:00",
          "2015-07-01T00:00:00",
          "2015-07-01T00:00:00",
          "2015-07-01T00:00:00",
          "2015-07-01T00:00:00",
          "2015-07-01T00:00:00",
          "2015-07-01T00:00:00",
          "2015-07-01T00:00:00",
          "2015-07-01T00:00:00",
          "2015-07-01T00:00:00",
          "2016-01-01T00:00:00",
          "2016-01-01T00:00:00",
          "2016-01-01T00:00:00",
          "2016-01-01T00:00:00",
          "2016-01-01T00:00:00",
          "2016-01-01T00:00:00",
          "2016-01-01T00:00:00",
          "2016-01-01T00:00:00",
          "2016-01-01T00:00:00",
          "2016-07-01T00:00:00",
          "2016-07-01T00:00:00",
          "2016-07-01T00:00:00",
          "2016-07-01T00:00:00",
          "2016-07-01T00:00:00",
          "2016-07-01T00:00:00",
          "2016-07-01T00:00:00",
          "2016-07-01T00:00:00",
          "2016-07-01T00:00:00",
          "2017-01-01T00:00:00",
          "2017-01-01T00:00:00",
          "2017-01-01T00:00:00",
          "2017-01-01T00:00:00",
          "2017-01-01T00:00:00",
          "2017-01-01T00:00:00",
          "2017-01-01T00:00:00",
          "2017-01-01T00:00:00",
          "2017-01-01T00:00:00",
          "2017-07-01T00:00:00",
          "2017-07-01T00:00:00",
          "2017-07-01T00:00:00",
          "2017-07-01T00:00:00",
          "2017-07-01T00:00:00",
          "2017-07-01T00:00:00",
          "2017-07-01T00:00:00",
          "2017-07-01T00:00:00",
          "2017-07-01T00:00:00",
          "2018-01-01T00:00:00",
          "2018-01-01T00:00:00",
          "2018-01-01T00:00:00",
          "2018-01-01T00:00:00",
          "2018-01-01T00:00:00",
          "2018-01-01T00:00:00",
          "2018-01-01T00:00:00",
          "2018-01-01T00:00:00",
          "2018-01-01T00:00:00",
          "2018-07-01T00:00:00",
          "2018-07-01T00:00:00",
          "2018-07-01T00:00:00",
          "2018-07-01T00:00:00",
          "2018-07-01T00:00:00",
          "2018-07-01T00:00:00",
          "2018-07-01T00:00:00",
          "2018-07-01T00:00:00",
          "2018-07-01T00:00:00",
          "2019-01-01T00:00:00",
          "2019-01-01T00:00:00",
          "2019-01-01T00:00:00",
          "2019-01-01T00:00:00",
          "2019-01-01T00:00:00",
          "2019-01-01T00:00:00",
          "2019-01-01T00:00:00",
          "2019-01-01T00:00:00",
          "2019-01-01T00:00:00",
          "2019-07-01T00:00:00",
          "2019-07-01T00:00:00",
          "2019-07-01T00:00:00",
          "2019-07-01T00:00:00",
          "2019-07-01T00:00:00",
          "2019-07-01T00:00:00",
          "2019-07-01T00:00:00",
          "2019-07-01T00:00:00",
          "2019-07-01T00:00:00",
          "2019-07-01T00:00:00",
          "2020-01-01T00:00:00",
          "2020-01-01T00:00:00",
          "2020-01-01T00:00:00",
          "2020-01-01T00:00:00",
          "2020-01-01T00:00:00",
          "2020-01-01T00:00:00",
          "2020-01-01T00:00:00",
          "2020-01-01T00:00:00",
          "2020-01-01T00:00:00",
          "2020-01-01T00:00:00",
          "2020-07-01T00:00:00",
          "2020-07-01T00:00:00",
          "2020-07-01T00:00:00",
          "2020-07-01T00:00:00",
          "2020-07-01T00:00:00",
          "2020-07-01T00:00:00",
          "2020-07-01T00:00:00",
          "2020-07-01T00:00:00",
          "2020-07-01T00:00:00",
          "2020-07-01T00:00:00",
          "2021-01-01T00:00:00",
          "2021-01-01T00:00:00",
          "2021-01-01T00:00:00",
          "2021-01-01T00:00:00",
          "2021-01-01T00:00:00",
          "2021-01-01T00:00:00",
          "2021-01-01T00:00:00",
          "2021-01-01T00:00:00",
          "2021-01-01T00:00:00",
          "2021-01-01T00:00:00",
          "2021-01-01T00:00:00",
          "2021-01-01T00:00:00",
          "2021-07-01T00:00:00",
          "2021-07-01T00:00:00",
          "2021-07-01T00:00:00",
          "2021-07-01T00:00:00",
          "2021-07-01T00:00:00",
          "2021-07-01T00:00:00",
          "2021-07-01T00:00:00",
          "2021-07-01T00:00:00",
          "2021-07-01T00:00:00",
          "2021-07-01T00:00:00",
          "2021-07-01T00:00:00",
          "2021-07-01T00:00:00",
          "2022-01-01T00:00:00",
          "2022-01-01T00:00:00",
          "2022-01-01T00:00:00",
          "2022-01-01T00:00:00",
          "2022-01-01T00:00:00",
          "2022-01-01T00:00:00",
          "2022-01-01T00:00:00",
          "2022-01-01T00:00:00",
          "2022-01-01T00:00:00",
          "2022-01-01T00:00:00",
          "2022-01-01T00:00:00",
          "2022-07-01T00:00:00",
          "2022-07-01T00:00:00",
          "2022-07-01T00:00:00",
          "2022-07-01T00:00:00",
          "2022-07-01T00:00:00",
          "2022-07-01T00:00:00",
          "2022-07-01T00:00:00",
          "2022-07-01T00:00:00",
          "2022-07-01T00:00:00",
          "2022-07-01T00:00:00"
         ],
         "y": [
          8,
          223,
          740,
          22,
          27,
          22,
          94,
          128,
          16,
          242,
          23,
          49,
          32,
          284,
          10,
          72,
          11,
          135,
          522,
          31,
          13,
          21,
          98,
          100,
          125,
          42,
          76,
          282,
          15,
          40,
          27,
          306,
          70,
          23,
          142,
          796,
          29,
          9,
          45,
          76,
          112,
          80,
          116,
          61,
          260,
          18,
          32,
          42,
          274,
          384,
          86,
          7,
          1,
          764,
          23,
          6,
          29,
          86,
          93,
          129,
          57,
          264,
          13,
          37,
          13,
          151,
          87,
          24,
          98,
          148,
          103,
          220,
          24,
          43,
          29,
          195,
          28,
          74,
          119,
          94,
          48,
          20,
          34,
          19,
          274,
          18,
          82,
          119,
          137,
          227,
          16,
          44,
          39,
          559,
          28,
          74,
          114,
          87,
          231,
          10,
          28,
          25,
          258,
          28,
          46,
          100,
          121,
          265,
          15,
          33,
          46,
          379,
          17,
          55,
          110,
          92,
          270,
          13,
          38,
          32,
          342,
          32,
          54,
          177,
          112,
          161,
          17,
          71,
          25,
          391,
          9,
          74,
          140,
          8,
          98,
          201,
          8,
          35,
          27,
          400,
          9,
          84,
          169,
          7,
          135,
          206,
          12,
          21,
          52,
          312,
          3,
          44,
          100,
          55,
          163,
          3,
          31,
          12,
          453,
          47,
          11,
          65,
          124,
          6,
          8,
          109,
          287,
          13,
          40,
          40,
          688,
          44,
          23,
          32,
          96,
          8,
          4,
          144,
          296,
          4,
          35,
          25,
          667,
          49,
          14,
          49,
          127,
          12,
          85,
          294,
          9,
          36,
          32,
          644,
          43,
          15,
          26,
          89,
          5,
          13,
          121,
          298,
          42,
          21,
          37
         ]
        }
       ],
       "layout": {
        "template": {
         "data": {
          "bar": [
           {
            "error_x": {
             "color": "#2a3f5f"
            },
            "error_y": {
             "color": "#2a3f5f"
            },
            "marker": {
             "line": {
              "color": "#E5ECF6",
              "width": 0.5
             },
             "pattern": {
              "fillmode": "overlay",
              "size": 10,
              "solidity": 0.2
             }
            },
            "type": "bar"
           }
          ],
          "barpolar": [
           {
            "marker": {
             "line": {
              "color": "#E5ECF6",
              "width": 0.5
             },
             "pattern": {
              "fillmode": "overlay",
              "size": 10,
              "solidity": 0.2
             }
            },
            "type": "barpolar"
           }
          ],
          "carpet": [
           {
            "aaxis": {
             "endlinecolor": "#2a3f5f",
             "gridcolor": "white",
             "linecolor": "white",
             "minorgridcolor": "white",
             "startlinecolor": "#2a3f5f"
            },
            "baxis": {
             "endlinecolor": "#2a3f5f",
             "gridcolor": "white",
             "linecolor": "white",
             "minorgridcolor": "white",
             "startlinecolor": "#2a3f5f"
            },
            "type": "carpet"
           }
          ],
          "choropleth": [
           {
            "colorbar": {
             "outlinewidth": 0,
             "ticks": ""
            },
            "type": "choropleth"
           }
          ],
          "contour": [
           {
            "colorbar": {
             "outlinewidth": 0,
             "ticks": ""
            },
            "colorscale": [
             [
              0,
              "#0d0887"
             ],
             [
              0.1111111111111111,
              "#46039f"
             ],
             [
              0.2222222222222222,
              "#7201a8"
             ],
             [
              0.3333333333333333,
              "#9c179e"
             ],
             [
              0.4444444444444444,
              "#bd3786"
             ],
             [
              0.5555555555555556,
              "#d8576b"
             ],
             [
              0.6666666666666666,
              "#ed7953"
             ],
             [
              0.7777777777777778,
              "#fb9f3a"
             ],
             [
              0.8888888888888888,
              "#fdca26"
             ],
             [
              1,
              "#f0f921"
             ]
            ],
            "type": "contour"
           }
          ],
          "contourcarpet": [
           {
            "colorbar": {
             "outlinewidth": 0,
             "ticks": ""
            },
            "type": "contourcarpet"
           }
          ],
          "heatmap": [
           {
            "colorbar": {
             "outlinewidth": 0,
             "ticks": ""
            },
            "colorscale": [
             [
              0,
              "#0d0887"
             ],
             [
              0.1111111111111111,
              "#46039f"
             ],
             [
              0.2222222222222222,
              "#7201a8"
             ],
             [
              0.3333333333333333,
              "#9c179e"
             ],
             [
              0.4444444444444444,
              "#bd3786"
             ],
             [
              0.5555555555555556,
              "#d8576b"
             ],
             [
              0.6666666666666666,
              "#ed7953"
             ],
             [
              0.7777777777777778,
              "#fb9f3a"
             ],
             [
              0.8888888888888888,
              "#fdca26"
             ],
             [
              1,
              "#f0f921"
             ]
            ],
            "type": "heatmap"
           }
          ],
          "heatmapgl": [
           {
            "colorbar": {
             "outlinewidth": 0,
             "ticks": ""
            },
            "colorscale": [
             [
              0,
              "#0d0887"
             ],
             [
              0.1111111111111111,
              "#46039f"
             ],
             [
              0.2222222222222222,
              "#7201a8"
             ],
             [
              0.3333333333333333,
              "#9c179e"
             ],
             [
              0.4444444444444444,
              "#bd3786"
             ],
             [
              0.5555555555555556,
              "#d8576b"
             ],
             [
              0.6666666666666666,
              "#ed7953"
             ],
             [
              0.7777777777777778,
              "#fb9f3a"
             ],
             [
              0.8888888888888888,
              "#fdca26"
             ],
             [
              1,
              "#f0f921"
             ]
            ],
            "type": "heatmapgl"
           }
          ],
          "histogram": [
           {
            "marker": {
             "pattern": {
              "fillmode": "overlay",
              "size": 10,
              "solidity": 0.2
             }
            },
            "type": "histogram"
           }
          ],
          "histogram2d": [
           {
            "colorbar": {
             "outlinewidth": 0,
             "ticks": ""
            },
            "colorscale": [
             [
              0,
              "#0d0887"
             ],
             [
              0.1111111111111111,
              "#46039f"
             ],
             [
              0.2222222222222222,
              "#7201a8"
             ],
             [
              0.3333333333333333,
              "#9c179e"
             ],
             [
              0.4444444444444444,
              "#bd3786"
             ],
             [
              0.5555555555555556,
              "#d8576b"
             ],
             [
              0.6666666666666666,
              "#ed7953"
             ],
             [
              0.7777777777777778,
              "#fb9f3a"
             ],
             [
              0.8888888888888888,
              "#fdca26"
             ],
             [
              1,
              "#f0f921"
             ]
            ],
            "type": "histogram2d"
           }
          ],
          "histogram2dcontour": [
           {
            "colorbar": {
             "outlinewidth": 0,
             "ticks": ""
            },
            "colorscale": [
             [
              0,
              "#0d0887"
             ],
             [
              0.1111111111111111,
              "#46039f"
             ],
             [
              0.2222222222222222,
              "#7201a8"
             ],
             [
              0.3333333333333333,
              "#9c179e"
             ],
             [
              0.4444444444444444,
              "#bd3786"
             ],
             [
              0.5555555555555556,
              "#d8576b"
             ],
             [
              0.6666666666666666,
              "#ed7953"
             ],
             [
              0.7777777777777778,
              "#fb9f3a"
             ],
             [
              0.8888888888888888,
              "#fdca26"
             ],
             [
              1,
              "#f0f921"
             ]
            ],
            "type": "histogram2dcontour"
           }
          ],
          "mesh3d": [
           {
            "colorbar": {
             "outlinewidth": 0,
             "ticks": ""
            },
            "type": "mesh3d"
           }
          ],
          "parcoords": [
           {
            "line": {
             "colorbar": {
              "outlinewidth": 0,
              "ticks": ""
             }
            },
            "type": "parcoords"
           }
          ],
          "pie": [
           {
            "automargin": true,
            "type": "pie"
           }
          ],
          "scatter": [
           {
            "fillpattern": {
             "fillmode": "overlay",
             "size": 10,
             "solidity": 0.2
            },
            "type": "scatter"
           }
          ],
          "scatter3d": [
           {
            "line": {
             "colorbar": {
              "outlinewidth": 0,
              "ticks": ""
             }
            },
            "marker": {
             "colorbar": {
              "outlinewidth": 0,
              "ticks": ""
             }
            },
            "type": "scatter3d"
           }
          ],
          "scattercarpet": [
           {
            "marker": {
             "colorbar": {
              "outlinewidth": 0,
              "ticks": ""
             }
            },
            "type": "scattercarpet"
           }
          ],
          "scattergeo": [
           {
            "marker": {
             "colorbar": {
              "outlinewidth": 0,
              "ticks": ""
             }
            },
            "type": "scattergeo"
           }
          ],
          "scattergl": [
           {
            "marker": {
             "colorbar": {
              "outlinewidth": 0,
              "ticks": ""
             }
            },
            "type": "scattergl"
           }
          ],
          "scattermapbox": [
           {
            "marker": {
             "colorbar": {
              "outlinewidth": 0,
              "ticks": ""
             }
            },
            "type": "scattermapbox"
           }
          ],
          "scatterpolar": [
           {
            "marker": {
             "colorbar": {
              "outlinewidth": 0,
              "ticks": ""
             }
            },
            "type": "scatterpolar"
           }
          ],
          "scatterpolargl": [
           {
            "marker": {
             "colorbar": {
              "outlinewidth": 0,
              "ticks": ""
             }
            },
            "type": "scatterpolargl"
           }
          ],
          "scatterternary": [
           {
            "marker": {
             "colorbar": {
              "outlinewidth": 0,
              "ticks": ""
             }
            },
            "type": "scatterternary"
           }
          ],
          "surface": [
           {
            "colorbar": {
             "outlinewidth": 0,
             "ticks": ""
            },
            "colorscale": [
             [
              0,
              "#0d0887"
             ],
             [
              0.1111111111111111,
              "#46039f"
             ],
             [
              0.2222222222222222,
              "#7201a8"
             ],
             [
              0.3333333333333333,
              "#9c179e"
             ],
             [
              0.4444444444444444,
              "#bd3786"
             ],
             [
              0.5555555555555556,
              "#d8576b"
             ],
             [
              0.6666666666666666,
              "#ed7953"
             ],
             [
              0.7777777777777778,
              "#fb9f3a"
             ],
             [
              0.8888888888888888,
              "#fdca26"
             ],
             [
              1,
              "#f0f921"
             ]
            ],
            "type": "surface"
           }
          ],
          "table": [
           {
            "cells": {
             "fill": {
              "color": "#EBF0F8"
             },
             "line": {
              "color": "white"
             }
            },
            "header": {
             "fill": {
              "color": "#C8D4E3"
             },
             "line": {
              "color": "white"
             }
            },
            "type": "table"
           }
          ]
         },
         "layout": {
          "annotationdefaults": {
           "arrowcolor": "#2a3f5f",
           "arrowhead": 0,
           "arrowwidth": 1
          },
          "autotypenumbers": "strict",
          "coloraxis": {
           "colorbar": {
            "outlinewidth": 0,
            "ticks": ""
           }
          },
          "colorscale": {
           "diverging": [
            [
             0,
             "#8e0152"
            ],
            [
             0.1,
             "#c51b7d"
            ],
            [
             0.2,
             "#de77ae"
            ],
            [
             0.3,
             "#f1b6da"
            ],
            [
             0.4,
             "#fde0ef"
            ],
            [
             0.5,
             "#f7f7f7"
            ],
            [
             0.6,
             "#e6f5d0"
            ],
            [
             0.7,
             "#b8e186"
            ],
            [
             0.8,
             "#7fbc41"
            ],
            [
             0.9,
             "#4d9221"
            ],
            [
             1,
             "#276419"
            ]
           ],
           "sequential": [
            [
             0,
             "#0d0887"
            ],
            [
             0.1111111111111111,
             "#46039f"
            ],
            [
             0.2222222222222222,
             "#7201a8"
            ],
            [
             0.3333333333333333,
             "#9c179e"
            ],
            [
             0.4444444444444444,
             "#bd3786"
            ],
            [
             0.5555555555555556,
             "#d8576b"
            ],
            [
             0.6666666666666666,
             "#ed7953"
            ],
            [
             0.7777777777777778,
             "#fb9f3a"
            ],
            [
             0.8888888888888888,
             "#fdca26"
            ],
            [
             1,
             "#f0f921"
            ]
           ],
           "sequentialminus": [
            [
             0,
             "#0d0887"
            ],
            [
             0.1111111111111111,
             "#46039f"
            ],
            [
             0.2222222222222222,
             "#7201a8"
            ],
            [
             0.3333333333333333,
             "#9c179e"
            ],
            [
             0.4444444444444444,
             "#bd3786"
            ],
            [
             0.5555555555555556,
             "#d8576b"
            ],
            [
             0.6666666666666666,
             "#ed7953"
            ],
            [
             0.7777777777777778,
             "#fb9f3a"
            ],
            [
             0.8888888888888888,
             "#fdca26"
            ],
            [
             1,
             "#f0f921"
            ]
           ]
          },
          "colorway": [
           "#636efa",
           "#EF553B",
           "#00cc96",
           "#ab63fa",
           "#FFA15A",
           "#19d3f3",
           "#FF6692",
           "#B6E880",
           "#FF97FF",
           "#FECB52"
          ],
          "font": {
           "color": "#2a3f5f"
          },
          "geo": {
           "bgcolor": "white",
           "lakecolor": "white",
           "landcolor": "#E5ECF6",
           "showlakes": true,
           "showland": true,
           "subunitcolor": "white"
          },
          "hoverlabel": {
           "align": "left"
          },
          "hovermode": "closest",
          "mapbox": {
           "style": "light"
          },
          "paper_bgcolor": "white",
          "plot_bgcolor": "#E5ECF6",
          "polar": {
           "angularaxis": {
            "gridcolor": "white",
            "linecolor": "white",
            "ticks": ""
           },
           "bgcolor": "#E5ECF6",
           "radialaxis": {
            "gridcolor": "white",
            "linecolor": "white",
            "ticks": ""
           }
          },
          "scene": {
           "xaxis": {
            "backgroundcolor": "#E5ECF6",
            "gridcolor": "white",
            "gridwidth": 2,
            "linecolor": "white",
            "showbackground": true,
            "ticks": "",
            "zerolinecolor": "white"
           },
           "yaxis": {
            "backgroundcolor": "#E5ECF6",
            "gridcolor": "white",
            "gridwidth": 2,
            "linecolor": "white",
            "showbackground": true,
            "ticks": "",
            "zerolinecolor": "white"
           },
           "zaxis": {
            "backgroundcolor": "#E5ECF6",
            "gridcolor": "white",
            "gridwidth": 2,
            "linecolor": "white",
            "showbackground": true,
            "ticks": "",
            "zerolinecolor": "white"
           }
          },
          "shapedefaults": {
           "line": {
            "color": "#2a3f5f"
           }
          },
          "ternary": {
           "aaxis": {
            "gridcolor": "white",
            "linecolor": "white",
            "ticks": ""
           },
           "baxis": {
            "gridcolor": "white",
            "linecolor": "white",
            "ticks": ""
           },
           "bgcolor": "#E5ECF6",
           "caxis": {
            "gridcolor": "white",
            "linecolor": "white",
            "ticks": ""
           }
          },
          "title": {
           "x": 0.05
          },
          "xaxis": {
           "automargin": true,
           "gridcolor": "white",
           "linecolor": "white",
           "ticks": "",
           "title": {
            "standoff": 15
           },
           "zerolinecolor": "white",
           "zerolinewidth": 2
          },
          "yaxis": {
           "automargin": true,
           "gridcolor": "white",
           "linecolor": "white",
           "ticks": "",
           "title": {
            "standoff": 15
           },
           "zerolinecolor": "white",
           "zerolinewidth": 2
          }
         }
        },
        "title": {
         "text": "Academic Program Demand Forecast"
        },
        "xaxis": {
         "title": {
          "text": "Date"
         }
        },
        "yaxis": {
         "title": {
          "text": "Quantity"
         }
        }
       }
      }
     },
     "metadata": {},
     "output_type": "display_data"
    }
   ],
   "source": [
    "# Assuming `aggregated_dfMatprimer` is already loaded with appropriate data\n",
    "# Aggregate the 'PRIMER CURSO' per year and program\n",
    "program_df = aggregated_dfMatprimer.groupby(['DATE', 'PROGRAMA ACADÉMICO', 'INSTITUCIÓN DE EDUCACIÓN SUPERIOR (IES)']).agg({'PRIMER CURSO': 'sum'}).reset_index()\n",
    "\n",
    "# Specify the program you want to forecast\n",
    "target_program = \"ADMINISTRACION FINANCIERA\"\n",
    "\n",
    "# Filter data for the specific program\n",
    "specific_program_data = program_df[program_df['PROGRAMA ACADÉMICO'] == target_program]\n",
    "\n",
    "# Convert 'INSTITUCIÓN DE EDUCACIÓN SUPERIOR (IES)' to one-hot encoding\n",
    "one_hot_institutions = pd.get_dummies(specific_program_data['INSTITUCIÓN DE EDUCACIÓN SUPERIOR (IES)'])\n",
    "specific_program_data = pd.concat([specific_program_data, one_hot_institutions], axis=1)\n",
    "\n",
    "# Initialize the Prophet model with additional regressors for each institution\n",
    "model = Prophet()\n",
    "\n",
    "# Add institution one-hot encoding as additional regressors\n",
    "for column in one_hot_institutions.columns:\n",
    "    model.add_regressor(column)\n",
    "\n",
    "# Prepare the data for Prophet\n",
    "specific_program_data['ds'] = specific_program_data['DATE']\n",
    "specific_program_data['y'] = specific_program_data['PRIMER CURSO']\n",
    "\n",
    "# Create and fit the Prophet model using all the data and institution regressors\n",
    "model.fit(specific_program_data[['ds', 'y'] + list(one_hot_institutions.columns)])\n",
    "\n",
    "# Make future predictions\n",
    "future = model.make_future_dataframe(periods=4, freq='6M')\n",
    "\n",
    "# Identify the last historical date in the original dataset\n",
    "last_hist_date = specific_program_data['ds'].max()\n",
    "\n",
    "# Adjust only the future prediction dates to start at the beginning of a month\n",
    "future.loc[future['ds'] > last_hist_date, 'ds'] = future['ds'][future['ds'] > last_hist_date] + pd.offsets.MonthBegin(-1)\n",
    "\n",
    "# Carry over the one-hot encoding for institutions to the future DataFrame\n",
    "for column in one_hot_institutions.columns:\n",
    "    future[column] = 0  # or appropriate values based on expected future conditions\n",
    "\n",
    "# Predict\n",
    "forecast = model.predict(future)\n",
    "\n",
    "# Perform cross-validation\n",
    "df_cv = cross_validation(model, initial='1460 days', period='182 days', horizon='730 days')\n",
    "\n",
    "# Calculate the performance metrics\n",
    "df_p = performance_metrics(df_cv)\n",
    "\n",
    "# Show the performance metrics\n",
    "print(df_p)\n",
    "\n",
    "# Display the first few rows of the forecast results\n",
    "print(forecast[['ds', 'yhat', 'yhat_lower', 'yhat_upper']])\n",
    "\n",
    "# Plotting with Plotly\n",
    "trace1 = go.Scatter(x=forecast['ds'], y=forecast['yhat'], mode='lines', name='Prediction')\n",
    "trace2 = go.Scatter(x=specific_program_data['ds'], y=specific_program_data['y'], mode='lines+markers', name='Actual Data')\n",
    "layout = go.Layout(title='Academic Program Demand Forecast', xaxis_title='Date', yaxis_title='Quantity')\n",
    "fig = go.Figure(data=[trace1, trace2], layout=layout)\n",
    "fig.show()"
   ]
  },
  {
   "cell_type": "markdown",
   "metadata": {},
   "source": [
    "Con el modelo de Prophet, se puede ver el comportamiento de los datos a través del tiempo, y se puede predecir con un grado de confiabilidad normal a bajo dependiendo del programa y los datos que hay respecto a este."
   ]
  },
  {
   "cell_type": "markdown",
   "metadata": {},
   "source": [
    "## Holts-Winters"
   ]
  },
  {
   "cell_type": "code",
   "execution_count": 69,
   "metadata": {},
   "outputs": [
    {
     "name": "stdout",
     "output_type": "stream",
     "text": [
      "205    82.855943\n",
      "206    81.945662\n",
      "207    77.187543\n",
      "208    76.277262\n",
      "dtype: float64\n"
     ]
    }
   ],
   "source": [
    "# Fit model\n",
    "model = ExponentialSmoothing(specific_program_data['y'], trend=\"add\", seasonal=\"add\", seasonal_periods=2)\n",
    "model_fit = model.fit()\n",
    "\n",
    "# Forecast next few periods\n",
    "forecast = model_fit.forecast(steps=4)\n",
    "print(forecast)"
   ]
  },
  {
   "cell_type": "code",
   "execution_count": 75,
   "metadata": {},
   "outputs": [
    {
     "name": "stdout",
     "output_type": "stream",
     "text": [
      "\n",
      "\n",
      " -- Exponential Smoothing --\n",
      "Average MSE: 24682.83246420753\n",
      "Average MAE: 115.13982977179487\n",
      "\n",
      "\n"
     ]
    }
   ],
   "source": [
    "n_splits = 3  # for simplicity, assuming we want 3 validation points\n",
    "\n",
    "# Initialize lists to store the performance of each fold\n",
    "mse_scores = []\n",
    "mae_scores = []\n",
    "\n",
    "# The minimum number of observations we decide is needed to start forecasting\n",
    "min_train_size = 6\n",
    "\n",
    "for t in range(min_train_size, len(specific_program_data) - n_splits + 1):\n",
    "    train = specific_program_data.iloc[:t]\n",
    "    test = specific_program_data.iloc[t:t+n_splits]  # here n_splits is 1 for one-step ahead prediction\n",
    "    \n",
    "    # Fit model\n",
    "    model = ExponentialSmoothing(specific_program_data['y'], seasonal='add', seasonal_periods=4)\n",
    "    model_fit = model.fit()\n",
    "    \n",
    "    # Forecast\n",
    "    forecast = model_fit.forecast(steps=n_splits)\n",
    "    \n",
    "    # Calculate performance metrics\n",
    "    mse = mean_squared_error(test['y'], forecast)\n",
    "    mae = mean_absolute_error(test['y'], forecast)\n",
    "    \n",
    "    # Store the scores\n",
    "    mse_scores.append(mse)\n",
    "    mae_scores.append(mae)\n",
    "\n",
    "# Print average scores\n",
    "print('')\n",
    "print('')\n",
    "print(' -- Exponential Smoothing --')\n",
    "print(f'Average MSE: {np.mean(mse_scores)}')\n",
    "print(f'Average MAE: {np.mean(mae_scores)}')\n",
    "print('')\n",
    "print('')\n"
   ]
  },
  {
   "cell_type": "markdown",
   "metadata": {},
   "source": [
    "De acuerdo a los resultados y las métricas obtenidas, las predicciones no cuentan con una confiabilidad suficiente"
   ]
  },
  {
   "cell_type": "markdown",
   "metadata": {},
   "source": [
    "## Regresión Lineal"
   ]
  },
  {
   "cell_type": "code",
   "execution_count": 71,
   "metadata": {},
   "outputs": [
    {
     "name": "stdout",
     "output_type": "stream",
     "text": [
      "Coeficiente de correlación de Pearson:  -0.04829594778613413\n",
      "P-value:  0.4916632198705478\n"
     ]
    }
   ],
   "source": [
    "# Correlación lineal entre las dos variables\n",
    "# ==============================================================================\n",
    "\n",
    "specific_program_data['ds_numeric'] = (specific_program_data['ds'] - specific_program_data['ds'].min()).dt.days\n",
    "\n",
    "corr_test = pearsonr(x = specific_program_data['ds_numeric'], y = specific_program_data['y'])\n",
    "print(\"Coeficiente de correlación de Pearson: \", corr_test[0])\n",
    "print(\"P-value: \", corr_test[1])"
   ]
  },
  {
   "cell_type": "markdown",
   "metadata": {},
   "source": [
    "Como se puede apreciar, los valores indican que no existe una correlación entre los datos, por lo que no resultará provechoso realizar un modelo de regresión lineal con los datos."
   ]
  },
  {
   "cell_type": "markdown",
   "metadata": {},
   "source": [
    "## ARIMA"
   ]
  },
  {
   "cell_type": "code",
   "execution_count": 72,
   "metadata": {},
   "outputs": [],
   "source": [
    "data = []\n",
    "for y in specific_program_data['y']:\n",
    "    data.append(y)\n",
    "\n",
    "\n",
    "series = pd.Series(data=data, index=specific_program_data['ds'])\n",
    "\n",
    "train_size = int(len(series) * 0.7)  # 80% of data for training\n",
    "train, test = series[:train_size], series[train_size:]\n"
   ]
  },
  {
   "cell_type": "code",
   "execution_count": 73,
   "metadata": {},
   "outputs": [
    {
     "name": "stdout",
     "output_type": "stream",
     "text": [
      "ADF Statistic: -14.191650\n",
      "p-value: 0.000000\n",
      "                               SARIMAX Results                                \n",
      "==============================================================================\n",
      "Dep. Variable:                      y   No. Observations:                  143\n",
      "Model:                 ARIMA(1, 1, 1)   Log Likelihood                -907.821\n",
      "Date:                Thu, 02 May 2024   AIC                           1821.642\n",
      "Time:                        18:09:48   BIC                           1830.510\n",
      "Sample:                             0   HQIC                          1825.246\n",
      "                                - 143                                         \n",
      "Covariance Type:                  opg                                         \n",
      "==============================================================================\n",
      "                 coef    std err          z      P>|z|      [0.025      0.975]\n",
      "------------------------------------------------------------------------------\n",
      "ar.L1         -0.1450      0.113     -1.280      0.200      -0.367       0.077\n",
      "ma.L1         -0.9986      0.443     -2.256      0.024      -1.866      -0.131\n",
      "sigma2      2.018e+04   9123.685      2.211      0.027    2294.492    3.81e+04\n",
      "===================================================================================\n",
      "Ljung-Box (L1) (Q):                   0.16   Jarque-Bera (JB):               410.65\n",
      "Prob(Q):                              0.68   Prob(JB):                         0.00\n",
      "Heteroskedasticity (H):               0.38   Skew:                             2.35\n",
      "Prob(H) (two-sided):                  0.00   Kurtosis:                         9.88\n",
      "===================================================================================\n",
      "\n",
      "Warnings:\n",
      "[1] Covariance matrix calculated using the outer product of gradients (complex-step).\n"
     ]
    },
    {
     "data": {
      "image/png": "[encoded data removed]",
      "text/plain": [
       "<Figure size 1200x600 with 1 Axes>"
      ]
     },
     "metadata": {},
     "output_type": "display_data"
    }
   ],
   "source": [
    "# Testing for stationarity\n",
    "result = sm.tsa.adfuller(series)\n",
    "print('ADF Statistic: %f' % result[0])\n",
    "print('p-value: %f' % result[1])\n",
    "\n",
    "# Fit the ARIMA model\n",
    "model = ARIMA(train, order=(1,1,1))\n",
    "model_fit = model.fit()\n",
    "\n",
    "# Summary of the model\n",
    "print(model_fit.summary())\n",
    "\n",
    "forecast = model_fit.forecast(steps=len(test))\n",
    "\n",
    "# Check for residuals\n",
    "residuals = model_fit.resid\n",
    "plt.figure(figsize=(12,6))\n",
    "plt.plot(residuals)\n",
    "plt.title('Residuals from ARIMA Model')\n",
    "plt.show()"
   ]
  },
  {
   "cell_type": "code",
   "execution_count": 74,
   "metadata": {},
   "outputs": [
    {
     "name": "stdout",
     "output_type": "stream",
     "text": [
      "MSE: 24917.256443760427, RMSE: 157.85200804475193, MAE: 110.17650131661836\n"
     ]
    },
    {
     "data": {
      "image/png": "[encoded data removed]",
      "text/plain": [
       "<Figure size 1200x600 with 1 Axes>"
      ]
     },
     "metadata": {},
     "output_type": "display_data"
    }
   ],
   "source": [
    "# Calculate errors\n",
    "mse = mean_squared_error(test, forecast)\n",
    "rmse = np.sqrt(mse)\n",
    "mae = mean_absolute_error(test, forecast)\n",
    "\n",
    "print(f'MSE: {mse}, RMSE: {rmse}, MAE: {mae}')\n",
    "\n",
    "plt.figure(figsize=(12, 6))\n",
    "plt.plot(test.index, test, label='Actual')\n",
    "plt.plot(test.index, forecast, label='Forecast', color='red')\n",
    "plt.title('Forecast vs Actuals')\n",
    "plt.legend()\n",
    "plt.show()"
   ]
  }
 ],
 "metadata": {
  "kernelspec": {
   "display_name": "Python 3",
   "language": "python",
   "name": "python3"
  },
  "language_info": {
   "codemirror_mode": {
    "name": "ipython",
    "version": 3
   },
   "file_extension": ".py",
   "mimetype": "text/x-python",
   "name": "python",
   "nbconvert_exporter": "python",
   "pygments_lexer": "ipython3",
   "version": "3.11.6"
  }
 },
 "nbformat": 4,
 "nbformat_minor": 2
}
